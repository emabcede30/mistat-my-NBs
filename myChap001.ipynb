{
 "cells": [
  {
   "cell_type": "code",
   "execution_count": 2,
   "id": "ac02a02e",
   "metadata": {},
   "outputs": [],
   "source": [
    "import pandas as pd"
   ]
  },
  {
   "cell_type": "markdown",
   "id": "1a217b38",
   "metadata": {
    "scrolled": true
   },
   "source": [
    "Ex 1.1"
   ]
  },
  {
   "cell_type": "code",
   "execution_count": 3,
   "id": "14716426",
   "metadata": {
    "scrolled": true
   },
   "outputs": [
    {
     "data": {
      "text/html": [
       "<div>\n",
       "<style scoped>\n",
       "    .dataframe tbody tr th:only-of-type {\n",
       "        vertical-align: middle;\n",
       "    }\n",
       "\n",
       "    .dataframe tbody tr th {\n",
       "        vertical-align: top;\n",
       "    }\n",
       "\n",
       "    .dataframe thead th {\n",
       "        text-align: right;\n",
       "    }\n",
       "</style>\n",
       "<table border=\"1\" class=\"dataframe\">\n",
       "  <thead>\n",
       "    <tr style=\"text-align: right;\">\n",
       "      <th></th>\n",
       "      <th>CYCLT</th>\n",
       "    </tr>\n",
       "  </thead>\n",
       "  <tbody>\n",
       "    <tr>\n",
       "      <th>0</th>\n",
       "      <td>1.008</td>\n",
       "    </tr>\n",
       "    <tr>\n",
       "      <th>1</th>\n",
       "      <td>1.098</td>\n",
       "    </tr>\n",
       "    <tr>\n",
       "      <th>2</th>\n",
       "      <td>1.120</td>\n",
       "    </tr>\n",
       "    <tr>\n",
       "      <th>3</th>\n",
       "      <td>0.423</td>\n",
       "    </tr>\n",
       "    <tr>\n",
       "      <th>4</th>\n",
       "      <td>1.021</td>\n",
       "    </tr>\n",
       "    <tr>\n",
       "      <th>5</th>\n",
       "      <td>1.069</td>\n",
       "    </tr>\n",
       "    <tr>\n",
       "      <th>6</th>\n",
       "      <td>0.271</td>\n",
       "    </tr>\n",
       "    <tr>\n",
       "      <th>7</th>\n",
       "      <td>0.431</td>\n",
       "    </tr>\n",
       "    <tr>\n",
       "      <th>8</th>\n",
       "      <td>1.095</td>\n",
       "    </tr>\n",
       "    <tr>\n",
       "      <th>9</th>\n",
       "      <td>1.088</td>\n",
       "    </tr>\n",
       "    <tr>\n",
       "      <th>10</th>\n",
       "      <td>1.117</td>\n",
       "    </tr>\n",
       "    <tr>\n",
       "      <th>11</th>\n",
       "      <td>1.080</td>\n",
       "    </tr>\n",
       "    <tr>\n",
       "      <th>12</th>\n",
       "      <td>0.206</td>\n",
       "    </tr>\n",
       "    <tr>\n",
       "      <th>13</th>\n",
       "      <td>0.330</td>\n",
       "    </tr>\n",
       "    <tr>\n",
       "      <th>14</th>\n",
       "      <td>0.314</td>\n",
       "    </tr>\n",
       "    <tr>\n",
       "      <th>15</th>\n",
       "      <td>1.132</td>\n",
       "    </tr>\n",
       "    <tr>\n",
       "      <th>16</th>\n",
       "      <td>0.586</td>\n",
       "    </tr>\n",
       "    <tr>\n",
       "      <th>17</th>\n",
       "      <td>1.118</td>\n",
       "    </tr>\n",
       "    <tr>\n",
       "      <th>18</th>\n",
       "      <td>0.319</td>\n",
       "    </tr>\n",
       "    <tr>\n",
       "      <th>19</th>\n",
       "      <td>0.664</td>\n",
       "    </tr>\n",
       "    <tr>\n",
       "      <th>20</th>\n",
       "      <td>1.141</td>\n",
       "    </tr>\n",
       "    <tr>\n",
       "      <th>21</th>\n",
       "      <td>0.662</td>\n",
       "    </tr>\n",
       "    <tr>\n",
       "      <th>22</th>\n",
       "      <td>0.531</td>\n",
       "    </tr>\n",
       "    <tr>\n",
       "      <th>23</th>\n",
       "      <td>0.280</td>\n",
       "    </tr>\n",
       "    <tr>\n",
       "      <th>24</th>\n",
       "      <td>0.489</td>\n",
       "    </tr>\n",
       "    <tr>\n",
       "      <th>25</th>\n",
       "      <td>1.080</td>\n",
       "    </tr>\n",
       "    <tr>\n",
       "      <th>26</th>\n",
       "      <td>0.628</td>\n",
       "    </tr>\n",
       "    <tr>\n",
       "      <th>27</th>\n",
       "      <td>0.302</td>\n",
       "    </tr>\n",
       "    <tr>\n",
       "      <th>28</th>\n",
       "      <td>0.179</td>\n",
       "    </tr>\n",
       "    <tr>\n",
       "      <th>29</th>\n",
       "      <td>1.056</td>\n",
       "    </tr>\n",
       "    <tr>\n",
       "      <th>30</th>\n",
       "      <td>0.449</td>\n",
       "    </tr>\n",
       "    <tr>\n",
       "      <th>31</th>\n",
       "      <td>1.057</td>\n",
       "    </tr>\n",
       "    <tr>\n",
       "      <th>32</th>\n",
       "      <td>0.437</td>\n",
       "    </tr>\n",
       "    <tr>\n",
       "      <th>33</th>\n",
       "      <td>0.175</td>\n",
       "    </tr>\n",
       "    <tr>\n",
       "      <th>34</th>\n",
       "      <td>0.482</td>\n",
       "    </tr>\n",
       "    <tr>\n",
       "      <th>35</th>\n",
       "      <td>0.275</td>\n",
       "    </tr>\n",
       "    <tr>\n",
       "      <th>36</th>\n",
       "      <td>1.084</td>\n",
       "    </tr>\n",
       "    <tr>\n",
       "      <th>37</th>\n",
       "      <td>0.287</td>\n",
       "    </tr>\n",
       "    <tr>\n",
       "      <th>38</th>\n",
       "      <td>1.068</td>\n",
       "    </tr>\n",
       "    <tr>\n",
       "      <th>39</th>\n",
       "      <td>1.069</td>\n",
       "    </tr>\n",
       "    <tr>\n",
       "      <th>40</th>\n",
       "      <td>0.215</td>\n",
       "    </tr>\n",
       "    <tr>\n",
       "      <th>41</th>\n",
       "      <td>1.107</td>\n",
       "    </tr>\n",
       "    <tr>\n",
       "      <th>42</th>\n",
       "      <td>0.348</td>\n",
       "    </tr>\n",
       "    <tr>\n",
       "      <th>43</th>\n",
       "      <td>0.213</td>\n",
       "    </tr>\n",
       "    <tr>\n",
       "      <th>44</th>\n",
       "      <td>0.200</td>\n",
       "    </tr>\n",
       "    <tr>\n",
       "      <th>45</th>\n",
       "      <td>0.187</td>\n",
       "    </tr>\n",
       "    <tr>\n",
       "      <th>46</th>\n",
       "      <td>0.339</td>\n",
       "    </tr>\n",
       "    <tr>\n",
       "      <th>47</th>\n",
       "      <td>0.224</td>\n",
       "    </tr>\n",
       "    <tr>\n",
       "      <th>48</th>\n",
       "      <td>1.009</td>\n",
       "    </tr>\n",
       "    <tr>\n",
       "      <th>49</th>\n",
       "      <td>0.560</td>\n",
       "    </tr>\n",
       "  </tbody>\n",
       "</table>\n",
       "</div>"
      ],
      "text/plain": [
       "    CYCLT\n",
       "0   1.008\n",
       "1   1.098\n",
       "2   1.120\n",
       "3   0.423\n",
       "4   1.021\n",
       "5   1.069\n",
       "6   0.271\n",
       "7   0.431\n",
       "8   1.095\n",
       "9   1.088\n",
       "10  1.117\n",
       "11  1.080\n",
       "12  0.206\n",
       "13  0.330\n",
       "14  0.314\n",
       "15  1.132\n",
       "16  0.586\n",
       "17  1.118\n",
       "18  0.319\n",
       "19  0.664\n",
       "20  1.141\n",
       "21  0.662\n",
       "22  0.531\n",
       "23  0.280\n",
       "24  0.489\n",
       "25  1.080\n",
       "26  0.628\n",
       "27  0.302\n",
       "28  0.179\n",
       "29  1.056\n",
       "30  0.449\n",
       "31  1.057\n",
       "32  0.437\n",
       "33  0.175\n",
       "34  0.482\n",
       "35  0.275\n",
       "36  1.084\n",
       "37  0.287\n",
       "38  1.068\n",
       "39  1.069\n",
       "40  0.215\n",
       "41  1.107\n",
       "42  0.348\n",
       "43  0.213\n",
       "44  0.200\n",
       "45  0.187\n",
       "46  0.339\n",
       "47  0.224\n",
       "48  1.009\n",
       "49  0.560"
      ]
     },
     "execution_count": 3,
     "metadata": {},
     "output_type": "execute_result"
    }
   ],
   "source": [
    "df1 = pd.read_csv(\"Chap001/CYCLT.csv\")\n",
    "df1"
   ]
  },
  {
   "cell_type": "code",
   "execution_count": 4,
   "id": "0c2345fd",
   "metadata": {
    "scrolled": true
   },
   "outputs": [
    {
     "data": {
      "text/plain": [
       "[1.008,\n",
       " 1.098,\n",
       " 1.12,\n",
       " 0.423,\n",
       " 1.021,\n",
       " 1.069,\n",
       " 0.271,\n",
       " 0.431,\n",
       " 1.095,\n",
       " 1.088,\n",
       " 1.117,\n",
       " 1.08,\n",
       " 0.206,\n",
       " 0.33,\n",
       " 0.314,\n",
       " 1.132,\n",
       " 0.586,\n",
       " 1.118,\n",
       " 0.319,\n",
       " 0.664,\n",
       " 1.141,\n",
       " 0.662,\n",
       " 0.531,\n",
       " 0.28,\n",
       " 0.489,\n",
       " 1.08,\n",
       " 0.628,\n",
       " 0.302,\n",
       " 0.179,\n",
       " 1.056,\n",
       " 0.449,\n",
       " 1.057,\n",
       " 0.437,\n",
       " 0.175,\n",
       " 0.482,\n",
       " 0.275,\n",
       " 1.084,\n",
       " 0.287,\n",
       " 1.068,\n",
       " 1.069,\n",
       " 0.215,\n",
       " 1.107,\n",
       " 0.348,\n",
       " 0.213,\n",
       " 0.2,\n",
       " 0.187,\n",
       " 0.339,\n",
       " 0.224,\n",
       " 1.009,\n",
       " 0.56]"
      ]
     },
     "execution_count": 4,
     "metadata": {},
     "output_type": "execute_result"
    }
   ],
   "source": [
    "list1 = df1['CYCLT'].tolist()\n",
    "list1"
   ]
  },
  {
   "cell_type": "code",
   "execution_count": 5,
   "id": "da52edd3",
   "metadata": {},
   "outputs": [
    {
     "name": "stdout",
     "output_type": "stream",
     "text": [
      "1.008 1.098 1.120 0.423 1.021\n",
      "1.069 0.271 0.431 1.095 1.088\n",
      "1.117 1.080 0.206 0.330 0.314\n",
      "1.132 0.586 1.118 0.319 0.664\n",
      "1.141 0.662 0.531 0.280 0.489\n",
      "1.080 0.628 0.302 0.179 1.056\n",
      "0.449 1.057 0.437 0.175 0.482\n",
      "0.275 1.084 0.287 1.068 1.069\n",
      "0.215 1.107 0.348 0.213 0.200\n",
      "0.187 0.339 0.224 1.009 0.560\n"
     ]
    }
   ],
   "source": [
    "import pandas as pd\n",
    "from itertools import zip_longest\n",
    "\n",
    "def grouper(iterable, n, fillvalue=None):\n",
    "    \"Collect data into fixed-length chunks or blocks\"\n",
    "    # grouper('ABCDEFG', 3, 'x') --> ABC DEF Gxx\"\n",
    "    args = [iter(iterable)] * n\n",
    "    return zip_longest(*args, fillvalue=fillvalue)\n",
    "\n",
    "#cyclt = df1[\"CYCLT\"]\n",
    "cyclt = list1\n",
    "for chunk in grouper(cyclt, 5):\n",
    "    #print(chunk)\n",
    "    print(' '.join([f'{v:.3f}' for v in chunk]))"
   ]
  },
  {
   "cell_type": "code",
   "execution_count": 6,
   "id": "9d1adbd2",
   "metadata": {},
   "outputs": [
    {
     "name": "stdout",
     "output_type": "stream",
     "text": [
      "[<list_iterator object at 0x00000193B895BD60>, <list_iterator object at 0x00000193B895BD60>, <list_iterator object at 0x00000193B895BD60>, <list_iterator object at 0x00000193B895BD60>]\n",
      "('a', 'b', 'c', 'd')\n",
      "('e', 'f', 'g', 'h')\n",
      "('i', 'j', None, None)\n"
     ]
    }
   ],
   "source": [
    "from itertools import zip_longest\n",
    "list2 = ['a', 'b', 'c', 'd', 'e', 'f', 'g', 'h', 'i', 'j']\n",
    "args = [iter(list2)] * 4\n",
    "print(args)\n",
    "zipped = zip_longest(*args, fillvalue=None)\n",
    "for j in zipped:\n",
    "    print(j)\n",
    "   "
   ]
  },
  {
   "cell_type": "code",
   "execution_count": 7,
   "id": "0054bdbd",
   "metadata": {},
   "outputs": [
    {
     "data": {
      "text/plain": [
       "[<list_iterator at 0x193b895bd90>,\n",
       " <list_iterator at 0x193b895bd90>,\n",
       " <list_iterator at 0x193b895bd90>,\n",
       " <list_iterator at 0x193b895bd90>]"
      ]
     },
     "execution_count": 7,
     "metadata": {},
     "output_type": "execute_result"
    }
   ],
   "source": [
    "list2 = ['a', 'b', 'c', 'd', 'e', 'f', 'g', 'h', 'i', 'j']\n",
    "args = [iter(list2)] * 4\n",
    "args"
   ]
  },
  {
   "cell_type": "code",
   "execution_count": 8,
   "id": "dfe68e5f",
   "metadata": {},
   "outputs": [
    {
     "data": {
      "text/plain": [
       "<list_iterator at 0x193b895b7f0>"
      ]
     },
     "execution_count": 8,
     "metadata": {},
     "output_type": "execute_result"
    }
   ],
   "source": [
    "args = [iter(list1),iter(list1),iter(list1),iter(list1)]\n",
    "args[0]"
   ]
  },
  {
   "cell_type": "code",
   "execution_count": 9,
   "id": "2527fc90",
   "metadata": {},
   "outputs": [
    {
     "name": "stdout",
     "output_type": "stream",
     "text": [
      "('a', 'b', 'c', 'd')\n",
      "('e', 'f', 'g', 'h')\n",
      "('i', 'j', None, None)\n"
     ]
    }
   ],
   "source": [
    "from itertools import zip_longest\n",
    "list1 = ['a', 'b', 'c', 'd', 'e', 'f', 'g', 'h', 'i', 'j']\n",
    "args = [iter(list1)] * 4\n",
    "\n",
    "zipped = zip_longest(*args, fillvalue=None)\n",
    "for j in zipped:\n",
    "    print(j)"
   ]
  },
  {
   "cell_type": "code",
   "execution_count": 10,
   "id": "7f4143e6",
   "metadata": {},
   "outputs": [
    {
     "data": {
      "text/plain": [
       "[['a', 'b', 'c', 'd', 'e', 'f', 'g', 'h', 'i', 'j'], [], [], []]"
      ]
     },
     "execution_count": 10,
     "metadata": {},
     "output_type": "execute_result"
    }
   ],
   "source": [
    "[list(x) for x in [iter(list1)] * 4]"
   ]
  },
  {
   "cell_type": "code",
   "execution_count": 11,
   "id": "6c08c805",
   "metadata": {},
   "outputs": [
    {
     "name": "stdout",
     "output_type": "stream",
     "text": [
      "[<list_iterator object at 0x00000193B895AE00>, <list_iterator object at 0x00000193B895AE00>, <list_iterator object at 0x00000193B895AE00>, <list_iterator object at 0x00000193B895AE00>]\n",
      "a\n",
      "b\n",
      "c\n",
      "d\n",
      "e\n",
      "f\n",
      "g\n",
      "h\n",
      "i\n",
      "j\n"
     ]
    }
   ],
   "source": [
    "list2 = ['a', 'b', 'c', 'd', 'e', 'f', 'g', 'h', 'i', 'j']\n",
    "args = [iter(list2)] * 4\n",
    "print(args)\n",
    "for i in args[0]:\n",
    "    print(i)"
   ]
  },
  {
   "cell_type": "code",
   "execution_count": 12,
   "id": "5678eace",
   "metadata": {},
   "outputs": [
    {
     "name": "stdout",
     "output_type": "stream",
     "text": [
      "a\n",
      "b\n",
      "c\n",
      "d\n",
      "e\n",
      "f\n",
      "g\n",
      "h\n",
      "i\n",
      "j\n"
     ]
    }
   ],
   "source": [
    "list2 = ['a', 'b', 'c', 'd', 'e', 'f', 'g', 'h', 'i', 'j']\n",
    "args = [iter(list2)] * 4\n",
    "for i in args[1]:\n",
    "    print(i)"
   ]
  },
  {
   "cell_type": "code",
   "execution_count": 13,
   "id": "628f9d3a",
   "metadata": {
    "scrolled": true
   },
   "outputs": [
    {
     "name": "stdout",
     "output_type": "stream",
     "text": [
      " 1.008\n",
      " 1.008 1.098\n",
      " 1.008 1.098 1.12\n",
      " 1.008 1.098 1.12 0.423\n",
      " 1.008 1.098 1.12 0.423 1.021\n",
      " 1.008 1.098 1.12 0.423 1.021 1.069\n",
      " 1.008 1.098 1.12 0.423 1.021 1.069 0.271\n",
      " 1.008 1.098 1.12 0.423 1.021 1.069 0.271 0.431\n",
      " 1.008 1.098 1.12 0.423 1.021 1.069 0.271 0.431 1.095\n",
      " 1.008 1.098 1.12 0.423 1.021 1.069 0.271 0.431 1.095 1.088\n",
      " 1.008 1.098 1.12 0.423 1.021 1.069 0.271 0.431 1.095 1.088 1.117\n",
      " 1.008 1.098 1.12 0.423 1.021 1.069 0.271 0.431 1.095 1.088 1.117 1.08\n",
      " 1.008 1.098 1.12 0.423 1.021 1.069 0.271 0.431 1.095 1.088 1.117 1.08 0.206\n",
      " 1.008 1.098 1.12 0.423 1.021 1.069 0.271 0.431 1.095 1.088 1.117 1.08 0.206 0.33\n",
      " 1.008 1.098 1.12 0.423 1.021 1.069 0.271 0.431 1.095 1.088 1.117 1.08 0.206 0.33 0.314\n",
      " 1.008 1.098 1.12 0.423 1.021 1.069 0.271 0.431 1.095 1.088 1.117 1.08 0.206 0.33 0.314 1.132\n",
      " 1.008 1.098 1.12 0.423 1.021 1.069 0.271 0.431 1.095 1.088 1.117 1.08 0.206 0.33 0.314 1.132 0.586\n",
      " 1.008 1.098 1.12 0.423 1.021 1.069 0.271 0.431 1.095 1.088 1.117 1.08 0.206 0.33 0.314 1.132 0.586 1.118\n",
      " 1.008 1.098 1.12 0.423 1.021 1.069 0.271 0.431 1.095 1.088 1.117 1.08 0.206 0.33 0.314 1.132 0.586 1.118 0.319\n",
      " 1.008 1.098 1.12 0.423 1.021 1.069 0.271 0.431 1.095 1.088 1.117 1.08 0.206 0.33 0.314 1.132 0.586 1.118 0.319 0.664\n",
      " 1.008 1.098 1.12 0.423 1.021 1.069 0.271 0.431 1.095 1.088 1.117 1.08 0.206 0.33 0.314 1.132 0.586 1.118 0.319 0.664 1.141\n",
      " 1.008 1.098 1.12 0.423 1.021 1.069 0.271 0.431 1.095 1.088 1.117 1.08 0.206 0.33 0.314 1.132 0.586 1.118 0.319 0.664 1.141 0.662\n",
      " 1.008 1.098 1.12 0.423 1.021 1.069 0.271 0.431 1.095 1.088 1.117 1.08 0.206 0.33 0.314 1.132 0.586 1.118 0.319 0.664 1.141 0.662 0.531\n",
      " 1.008 1.098 1.12 0.423 1.021 1.069 0.271 0.431 1.095 1.088 1.117 1.08 0.206 0.33 0.314 1.132 0.586 1.118 0.319 0.664 1.141 0.662 0.531 0.28\n",
      " 1.008 1.098 1.12 0.423 1.021 1.069 0.271 0.431 1.095 1.088 1.117 1.08 0.206 0.33 0.314 1.132 0.586 1.118 0.319 0.664 1.141 0.662 0.531 0.28 0.489\n",
      " 1.008 1.098 1.12 0.423 1.021 1.069 0.271 0.431 1.095 1.088 1.117 1.08 0.206 0.33 0.314 1.132 0.586 1.118 0.319 0.664 1.141 0.662 0.531 0.28 0.489 1.08\n",
      " 1.008 1.098 1.12 0.423 1.021 1.069 0.271 0.431 1.095 1.088 1.117 1.08 0.206 0.33 0.314 1.132 0.586 1.118 0.319 0.664 1.141 0.662 0.531 0.28 0.489 1.08 0.628\n",
      " 1.008 1.098 1.12 0.423 1.021 1.069 0.271 0.431 1.095 1.088 1.117 1.08 0.206 0.33 0.314 1.132 0.586 1.118 0.319 0.664 1.141 0.662 0.531 0.28 0.489 1.08 0.628 0.302\n",
      " 1.008 1.098 1.12 0.423 1.021 1.069 0.271 0.431 1.095 1.088 1.117 1.08 0.206 0.33 0.314 1.132 0.586 1.118 0.319 0.664 1.141 0.662 0.531 0.28 0.489 1.08 0.628 0.302 0.179\n",
      " 1.008 1.098 1.12 0.423 1.021 1.069 0.271 0.431 1.095 1.088 1.117 1.08 0.206 0.33 0.314 1.132 0.586 1.118 0.319 0.664 1.141 0.662 0.531 0.28 0.489 1.08 0.628 0.302 0.179 1.056\n",
      " 1.008 1.098 1.12 0.423 1.021 1.069 0.271 0.431 1.095 1.088 1.117 1.08 0.206 0.33 0.314 1.132 0.586 1.118 0.319 0.664 1.141 0.662 0.531 0.28 0.489 1.08 0.628 0.302 0.179 1.056 0.449\n",
      " 1.008 1.098 1.12 0.423 1.021 1.069 0.271 0.431 1.095 1.088 1.117 1.08 0.206 0.33 0.314 1.132 0.586 1.118 0.319 0.664 1.141 0.662 0.531 0.28 0.489 1.08 0.628 0.302 0.179 1.056 0.449 1.057\n",
      " 1.008 1.098 1.12 0.423 1.021 1.069 0.271 0.431 1.095 1.088 1.117 1.08 0.206 0.33 0.314 1.132 0.586 1.118 0.319 0.664 1.141 0.662 0.531 0.28 0.489 1.08 0.628 0.302 0.179 1.056 0.449 1.057 0.437\n",
      " 1.008 1.098 1.12 0.423 1.021 1.069 0.271 0.431 1.095 1.088 1.117 1.08 0.206 0.33 0.314 1.132 0.586 1.118 0.319 0.664 1.141 0.662 0.531 0.28 0.489 1.08 0.628 0.302 0.179 1.056 0.449 1.057 0.437 0.175\n",
      " 1.008 1.098 1.12 0.423 1.021 1.069 0.271 0.431 1.095 1.088 1.117 1.08 0.206 0.33 0.314 1.132 0.586 1.118 0.319 0.664 1.141 0.662 0.531 0.28 0.489 1.08 0.628 0.302 0.179 1.056 0.449 1.057 0.437 0.175 0.482\n",
      " 1.008 1.098 1.12 0.423 1.021 1.069 0.271 0.431 1.095 1.088 1.117 1.08 0.206 0.33 0.314 1.132 0.586 1.118 0.319 0.664 1.141 0.662 0.531 0.28 0.489 1.08 0.628 0.302 0.179 1.056 0.449 1.057 0.437 0.175 0.482 0.275\n",
      " 1.008 1.098 1.12 0.423 1.021 1.069 0.271 0.431 1.095 1.088 1.117 1.08 0.206 0.33 0.314 1.132 0.586 1.118 0.319 0.664 1.141 0.662 0.531 0.28 0.489 1.08 0.628 0.302 0.179 1.056 0.449 1.057 0.437 0.175 0.482 0.275 1.084\n",
      " 1.008 1.098 1.12 0.423 1.021 1.069 0.271 0.431 1.095 1.088 1.117 1.08 0.206 0.33 0.314 1.132 0.586 1.118 0.319 0.664 1.141 0.662 0.531 0.28 0.489 1.08 0.628 0.302 0.179 1.056 0.449 1.057 0.437 0.175 0.482 0.275 1.084 0.287\n",
      " 1.008 1.098 1.12 0.423 1.021 1.069 0.271 0.431 1.095 1.088 1.117 1.08 0.206 0.33 0.314 1.132 0.586 1.118 0.319 0.664 1.141 0.662 0.531 0.28 0.489 1.08 0.628 0.302 0.179 1.056 0.449 1.057 0.437 0.175 0.482 0.275 1.084 0.287 1.068\n",
      " 1.008 1.098 1.12 0.423 1.021 1.069 0.271 0.431 1.095 1.088 1.117 1.08 0.206 0.33 0.314 1.132 0.586 1.118 0.319 0.664 1.141 0.662 0.531 0.28 0.489 1.08 0.628 0.302 0.179 1.056 0.449 1.057 0.437 0.175 0.482 0.275 1.084 0.287 1.068 1.069\n",
      " 1.008 1.098 1.12 0.423 1.021 1.069 0.271 0.431 1.095 1.088 1.117 1.08 0.206 0.33 0.314 1.132 0.586 1.118 0.319 0.664 1.141 0.662 0.531 0.28 0.489 1.08 0.628 0.302 0.179 1.056 0.449 1.057 0.437 0.175 0.482 0.275 1.084 0.287 1.068 1.069 0.215\n",
      " 1.008 1.098 1.12 0.423 1.021 1.069 0.271 0.431 1.095 1.088 1.117 1.08 0.206 0.33 0.314 1.132 0.586 1.118 0.319 0.664 1.141 0.662 0.531 0.28 0.489 1.08 0.628 0.302 0.179 1.056 0.449 1.057 0.437 0.175 0.482 0.275 1.084 0.287 1.068 1.069 0.215 1.107\n",
      " 1.008 1.098 1.12 0.423 1.021 1.069 0.271 0.431 1.095 1.088 1.117 1.08 0.206 0.33 0.314 1.132 0.586 1.118 0.319 0.664 1.141 0.662 0.531 0.28 0.489 1.08 0.628 0.302 0.179 1.056 0.449 1.057 0.437 0.175 0.482 0.275 1.084 0.287 1.068 1.069 0.215 1.107 0.348\n",
      " 1.008 1.098 1.12 0.423 1.021 1.069 0.271 0.431 1.095 1.088 1.117 1.08 0.206 0.33 0.314 1.132 0.586 1.118 0.319 0.664 1.141 0.662 0.531 0.28 0.489 1.08 0.628 0.302 0.179 1.056 0.449 1.057 0.437 0.175 0.482 0.275 1.084 0.287 1.068 1.069 0.215 1.107 0.348 0.213\n",
      " 1.008 1.098 1.12 0.423 1.021 1.069 0.271 0.431 1.095 1.088 1.117 1.08 0.206 0.33 0.314 1.132 0.586 1.118 0.319 0.664 1.141 0.662 0.531 0.28 0.489 1.08 0.628 0.302 0.179 1.056 0.449 1.057 0.437 0.175 0.482 0.275 1.084 0.287 1.068 1.069 0.215 1.107 0.348 0.213 0.2\n",
      " 1.008 1.098 1.12 0.423 1.021 1.069 0.271 0.431 1.095 1.088 1.117 1.08 0.206 0.33 0.314 1.132 0.586 1.118 0.319 0.664 1.141 0.662 0.531 0.28 0.489 1.08 0.628 0.302 0.179 1.056 0.449 1.057 0.437 0.175 0.482 0.275 1.084 0.287 1.068 1.069 0.215 1.107 0.348 0.213 0.2 0.187\n",
      " 1.008 1.098 1.12 0.423 1.021 1.069 0.271 0.431 1.095 1.088 1.117 1.08 0.206 0.33 0.314 1.132 0.586 1.118 0.319 0.664 1.141 0.662 0.531 0.28 0.489 1.08 0.628 0.302 0.179 1.056 0.449 1.057 0.437 0.175 0.482 0.275 1.084 0.287 1.068 1.069 0.215 1.107 0.348 0.213 0.2 0.187 0.339\n",
      " 1.008 1.098 1.12 0.423 1.021 1.069 0.271 0.431 1.095 1.088 1.117 1.08 0.206 0.33 0.314 1.132 0.586 1.118 0.319 0.664 1.141 0.662 0.531 0.28 0.489 1.08 0.628 0.302 0.179 1.056 0.449 1.057 0.437 0.175 0.482 0.275 1.084 0.287 1.068 1.069 0.215 1.107 0.348 0.213 0.2 0.187 0.339 0.224\n",
      " 1.008 1.098 1.12 0.423 1.021 1.069 0.271 0.431 1.095 1.088 1.117 1.08 0.206 0.33 0.314 1.132 0.586 1.118 0.319 0.664 1.141 0.662 0.531 0.28 0.489 1.08 0.628 0.302 0.179 1.056 0.449 1.057 0.437 0.175 0.482 0.275 1.084 0.287 1.068 1.069 0.215 1.107 0.348 0.213 0.2 0.187 0.339 0.224 1.009\n",
      " 1.008 1.098 1.12 0.423 1.021 1.069 0.271 0.431 1.095 1.088 1.117 1.08 0.206 0.33 0.314 1.132 0.586 1.118 0.319 0.664 1.141 0.662 0.531 0.28 0.489 1.08 0.628 0.302 0.179 1.056 0.449 1.057 0.437 0.175 0.482 0.275 1.084 0.287 1.068 1.069 0.215 1.107 0.348 0.213 0.2 0.187 0.339 0.224 1.009 0.56\n"
     ]
    }
   ],
   "source": [
    "args = [iter(cyclt)] * 5\n",
    "for i in args:\n",
    "    strng = \"\"\n",
    "    for j in i:\n",
    "        strng = strng + \" \" + str(j) \n",
    "        print(strng)\n",
    "    strng = strng + \"j\"\n",
    "   "
   ]
  },
  {
   "cell_type": "code",
   "execution_count": 14,
   "id": "a87d19d6",
   "metadata": {},
   "outputs": [
    {
     "name": "stdout",
     "output_type": "stream",
     "text": [
      "(1.008, 1.098, 1.12, 0.423, 1.021)\n",
      "(1.069, 0.271, 0.431, 1.095, 1.088)\n",
      "(1.117, 1.08, 0.206, 0.33, 0.314)\n",
      "(1.132, 0.586, 1.118, 0.319, 0.664)\n",
      "(1.141, 0.662, 0.531, 0.28, 0.489)\n",
      "(1.08, 0.628, 0.302, 0.179, 1.056)\n",
      "(0.449, 1.057, 0.437, 0.175, 0.482)\n",
      "(0.275, 1.084, 0.287, 1.068, 1.069)\n",
      "(0.215, 1.107, 0.348, 0.213, 0.2)\n",
      "(0.187, 0.339, 0.224, 1.009, 0.56)\n"
     ]
    }
   ],
   "source": [
    "args = [iter(cyclt)] * 5\n",
    "zipped = zip_longest(*args, fillvalue=None)\n",
    "for item in zipped:\n",
    "    print(item)"
   ]
  },
  {
   "cell_type": "code",
   "execution_count": null,
   "id": "8682d178",
   "metadata": {},
   "outputs": [],
   "source": []
  },
  {
   "cell_type": "code",
   "execution_count": 15,
   "id": "dee71857",
   "metadata": {},
   "outputs": [
    {
     "name": "stdout",
     "output_type": "stream",
     "text": [
      "(1, 'A')\n",
      "(2, 'B')\n",
      "(3, None)\n"
     ]
    }
   ],
   "source": [
    "from itertools import zip_longest\n",
    "\n",
    "iterable1 = [1, 2, 3]\n",
    "iterable2 = ['A', 'B']\n",
    "zipped = zip_longest(iterable1, iterable2, fillvalue=None)\n",
    "\n",
    "for item in zipped:\n",
    "    print(item)"
   ]
  },
  {
   "cell_type": "code",
   "execution_count": 16,
   "id": "56eb78e7",
   "metadata": {},
   "outputs": [
    {
     "data": {
      "text/plain": [
       "[1, 2, 3, 1, 2, 3, 1, 2, 3, 1, 2, 3, 1, 2, 3]"
      ]
     },
     "execution_count": 16,
     "metadata": {},
     "output_type": "execute_result"
    }
   ],
   "source": [
    "list = [1, 2, 3]\n",
    "list * 5"
   ]
  },
  {
   "cell_type": "markdown",
   "id": "17e1e0e6",
   "metadata": {},
   "source": [
    "Ex 1.2"
   ]
  },
  {
   "cell_type": "code",
   "execution_count": 17,
   "id": "f60c25a2",
   "metadata": {},
   "outputs": [
    {
     "name": "stdout",
     "output_type": "stream",
     "text": [
      "[0, 1, 0, 0, 1, 1, 0, 0, 0, 0, 0, 0, 0, 1, 1, 0, 0, 0, 1, 1, 0, 0, 0, 0, 0, 0, 1, 1, 0, 0, 0, 1, 0, 0, 0, 1, 0, 1, 1, 0, 1, 1, 0, 1, 0, 0, 0, 0, 1, 1]\n"
     ]
    }
   ],
   "source": [
    "import random\n",
    "\n",
    "random_list = random.choices([0, 1], k=50)\n",
    "\n",
    "print(random_list)"
   ]
  },
  {
   "cell_type": "code",
   "execution_count": 18,
   "id": "702f299f",
   "metadata": {},
   "outputs": [
    {
     "name": "stdout",
     "output_type": "stream",
     "text": [
      "Requirement already satisfied: scipy in d:\\02 pythonprojects\\python_venv\\dap2\\lib\\site-packages (1.10.1)\n",
      "Requirement already satisfied: numpy<1.27.0,>=1.19.5 in d:\\02 pythonprojects\\python_venv\\dap2\\lib\\site-packages (from scipy) (1.24.3)\n",
      "Note: you may need to restart the kernel to use updated packages.\n"
     ]
    }
   ],
   "source": [
    "pip install scipy"
   ]
  },
  {
   "cell_type": "code",
   "execution_count": 19,
   "id": "342ddbe0",
   "metadata": {},
   "outputs": [
    {
     "name": "stdout",
     "output_type": "stream",
     "text": [
      "[1 0 1 1 0 1 1 1 0 1 0 0 1 0 1 1 0 1 1 1 1 0 0 1 0 1 0 0 0 1 1 1 0 0 0 0 0\n",
      " 1 1 0 1 1 0 1 0 1 1 1 1 0]\n"
     ]
    }
   ],
   "source": [
    "from scipy.stats import binom\n",
    "import numpy as np\n",
    "\n",
    "X = binom.rvs(1, 0.5, size=50)\n",
    "\n",
    "print(X)"
   ]
  },
  {
   "cell_type": "markdown",
   "id": "7da1c31c",
   "metadata": {},
   "source": [
    "## Ex 1.3"
   ]
  },
  {
   "cell_type": "code",
   "execution_count": 20,
   "id": "cecd9f5d",
   "metadata": {
    "scrolled": true
   },
   "outputs": [
    {
     "data": {
      "text/html": [
       "<div>\n",
       "<style scoped>\n",
       "    .dataframe tbody tr th:only-of-type {\n",
       "        vertical-align: middle;\n",
       "    }\n",
       "\n",
       "    .dataframe tbody tr th {\n",
       "        vertical-align: top;\n",
       "    }\n",
       "\n",
       "    .dataframe thead th {\n",
       "        text-align: right;\n",
       "    }\n",
       "</style>\n",
       "<table border=\"1\" class=\"dataframe\">\n",
       "  <thead>\n",
       "    <tr style=\"text-align: right;\">\n",
       "      <th></th>\n",
       "      <th>STEELROD</th>\n",
       "    </tr>\n",
       "  </thead>\n",
       "  <tbody>\n",
       "    <tr>\n",
       "      <th>0</th>\n",
       "      <td>19.3327</td>\n",
       "    </tr>\n",
       "    <tr>\n",
       "      <th>1</th>\n",
       "      <td>18.4519</td>\n",
       "    </tr>\n",
       "    <tr>\n",
       "      <th>2</th>\n",
       "      <td>20.2554</td>\n",
       "    </tr>\n",
       "    <tr>\n",
       "      <th>3</th>\n",
       "      <td>21.2587</td>\n",
       "    </tr>\n",
       "    <tr>\n",
       "      <th>4</th>\n",
       "      <td>17.3883</td>\n",
       "    </tr>\n",
       "    <tr>\n",
       "      <th>5</th>\n",
       "      <td>21.4208</td>\n",
       "    </tr>\n",
       "    <tr>\n",
       "      <th>6</th>\n",
       "      <td>19.3684</td>\n",
       "    </tr>\n",
       "    <tr>\n",
       "      <th>7</th>\n",
       "      <td>21.2346</td>\n",
       "    </tr>\n",
       "    <tr>\n",
       "      <th>8</th>\n",
       "      <td>19.4008</td>\n",
       "    </tr>\n",
       "    <tr>\n",
       "      <th>9</th>\n",
       "      <td>18.8135</td>\n",
       "    </tr>\n",
       "    <tr>\n",
       "      <th>10</th>\n",
       "      <td>22.3996</td>\n",
       "    </tr>\n",
       "    <tr>\n",
       "      <th>11</th>\n",
       "      <td>19.4417</td>\n",
       "    </tr>\n",
       "    <tr>\n",
       "      <th>12</th>\n",
       "      <td>18.0638</td>\n",
       "    </tr>\n",
       "    <tr>\n",
       "      <th>13</th>\n",
       "      <td>18.9021</td>\n",
       "    </tr>\n",
       "    <tr>\n",
       "      <th>14</th>\n",
       "      <td>19.2201</td>\n",
       "    </tr>\n",
       "    <tr>\n",
       "      <th>15</th>\n",
       "      <td>19.2636</td>\n",
       "    </tr>\n",
       "    <tr>\n",
       "      <th>16</th>\n",
       "      <td>18.5239</td>\n",
       "    </tr>\n",
       "    <tr>\n",
       "      <th>17</th>\n",
       "      <td>21.6129</td>\n",
       "    </tr>\n",
       "    <tr>\n",
       "      <th>18</th>\n",
       "      <td>21.9512</td>\n",
       "    </tr>\n",
       "    <tr>\n",
       "      <th>19</th>\n",
       "      <td>17.7798</td>\n",
       "    </tr>\n",
       "    <tr>\n",
       "      <th>20</th>\n",
       "      <td>18.8485</td>\n",
       "    </tr>\n",
       "    <tr>\n",
       "      <th>21</th>\n",
       "      <td>19.3705</td>\n",
       "    </tr>\n",
       "    <tr>\n",
       "      <th>22</th>\n",
       "      <td>19.8606</td>\n",
       "    </tr>\n",
       "    <tr>\n",
       "      <th>23</th>\n",
       "      <td>20.2531</td>\n",
       "    </tr>\n",
       "    <tr>\n",
       "      <th>24</th>\n",
       "      <td>20.1192</td>\n",
       "    </tr>\n",
       "    <tr>\n",
       "      <th>25</th>\n",
       "      <td>18.9130</td>\n",
       "    </tr>\n",
       "    <tr>\n",
       "      <th>26</th>\n",
       "      <td>19.7293</td>\n",
       "    </tr>\n",
       "    <tr>\n",
       "      <th>27</th>\n",
       "      <td>20.1475</td>\n",
       "    </tr>\n",
       "    <tr>\n",
       "      <th>28</th>\n",
       "      <td>21.3245</td>\n",
       "    </tr>\n",
       "    <tr>\n",
       "      <th>29</th>\n",
       "      <td>20.9860</td>\n",
       "    </tr>\n",
       "    <tr>\n",
       "      <th>30</th>\n",
       "      <td>20.2549</td>\n",
       "    </tr>\n",
       "    <tr>\n",
       "      <th>31</th>\n",
       "      <td>20.2598</td>\n",
       "    </tr>\n",
       "    <tr>\n",
       "      <th>32</th>\n",
       "      <td>18.5766</td>\n",
       "    </tr>\n",
       "    <tr>\n",
       "      <th>33</th>\n",
       "      <td>19.0839</td>\n",
       "    </tr>\n",
       "    <tr>\n",
       "      <th>34</th>\n",
       "      <td>20.6091</td>\n",
       "    </tr>\n",
       "    <tr>\n",
       "      <th>35</th>\n",
       "      <td>19.6510</td>\n",
       "    </tr>\n",
       "    <tr>\n",
       "      <th>36</th>\n",
       "      <td>19.2168</td>\n",
       "    </tr>\n",
       "    <tr>\n",
       "      <th>37</th>\n",
       "      <td>21.3320</td>\n",
       "    </tr>\n",
       "    <tr>\n",
       "      <th>38</th>\n",
       "      <td>21.0363</td>\n",
       "    </tr>\n",
       "    <tr>\n",
       "      <th>39</th>\n",
       "      <td>19.7285</td>\n",
       "    </tr>\n",
       "    <tr>\n",
       "      <th>40</th>\n",
       "      <td>19.9289</td>\n",
       "    </tr>\n",
       "    <tr>\n",
       "      <th>41</th>\n",
       "      <td>20.4760</td>\n",
       "    </tr>\n",
       "    <tr>\n",
       "      <th>42</th>\n",
       "      <td>19.1857</td>\n",
       "    </tr>\n",
       "    <tr>\n",
       "      <th>43</th>\n",
       "      <td>18.4375</td>\n",
       "    </tr>\n",
       "    <tr>\n",
       "      <th>44</th>\n",
       "      <td>20.5932</td>\n",
       "    </tr>\n",
       "    <tr>\n",
       "      <th>45</th>\n",
       "      <td>20.6833</td>\n",
       "    </tr>\n",
       "    <tr>\n",
       "      <th>46</th>\n",
       "      <td>21.5867</td>\n",
       "    </tr>\n",
       "    <tr>\n",
       "      <th>47</th>\n",
       "      <td>20.0922</td>\n",
       "    </tr>\n",
       "    <tr>\n",
       "      <th>48</th>\n",
       "      <td>19.7656</td>\n",
       "    </tr>\n",
       "    <tr>\n",
       "      <th>49</th>\n",
       "      <td>20.3755</td>\n",
       "    </tr>\n",
       "  </tbody>\n",
       "</table>\n",
       "</div>"
      ],
      "text/plain": [
       "    STEELROD\n",
       "0    19.3327\n",
       "1    18.4519\n",
       "2    20.2554\n",
       "3    21.2587\n",
       "4    17.3883\n",
       "5    21.4208\n",
       "6    19.3684\n",
       "7    21.2346\n",
       "8    19.4008\n",
       "9    18.8135\n",
       "10   22.3996\n",
       "11   19.4417\n",
       "12   18.0638\n",
       "13   18.9021\n",
       "14   19.2201\n",
       "15   19.2636\n",
       "16   18.5239\n",
       "17   21.6129\n",
       "18   21.9512\n",
       "19   17.7798\n",
       "20   18.8485\n",
       "21   19.3705\n",
       "22   19.8606\n",
       "23   20.2531\n",
       "24   20.1192\n",
       "25   18.9130\n",
       "26   19.7293\n",
       "27   20.1475\n",
       "28   21.3245\n",
       "29   20.9860\n",
       "30   20.2549\n",
       "31   20.2598\n",
       "32   18.5766\n",
       "33   19.0839\n",
       "34   20.6091\n",
       "35   19.6510\n",
       "36   19.2168\n",
       "37   21.3320\n",
       "38   21.0363\n",
       "39   19.7285\n",
       "40   19.9289\n",
       "41   20.4760\n",
       "42   19.1857\n",
       "43   18.4375\n",
       "44   20.5932\n",
       "45   20.6833\n",
       "46   21.5867\n",
       "47   20.0922\n",
       "48   19.7656\n",
       "49   20.3755"
      ]
     },
     "execution_count": 20,
     "metadata": {},
     "output_type": "execute_result"
    }
   ],
   "source": [
    "df2 = pd.read_csv(\"Chap001/STEELROD.csv\")\n",
    "df2"
   ]
  },
  {
   "cell_type": "code",
   "execution_count": 21,
   "id": "71b3d021",
   "metadata": {},
   "outputs": [
    {
     "data": {
      "image/png": "[encoded data removed]",
      "text/plain": [
       "<Figure size 640x480 with 1 Axes>"
      ]
     },
     "metadata": {},
     "output_type": "display_data"
    }
   ],
   "source": [
    "import matplotlib.pyplot as plt\n",
    "\n",
    "steelrod = df2\n",
    "\n",
    "# create a scatterplot\n",
    "ax = steelrod.plot(y='STEELROD', style='.', color='black')\n",
    "ax.set_xlabel('Index')            # set the x axis title\n",
    "ax.set_ylabel('Steel rod Length') # set the y axis title\n",
    "plt.show()"
   ]
  },
  {
   "cell_type": "code",
   "execution_count": 22,
   "id": "5296786d",
   "metadata": {},
   "outputs": [
    {
     "data": {
      "text/html": [
       "<div>\n",
       "<style scoped>\n",
       "    .dataframe tbody tr th:only-of-type {\n",
       "        vertical-align: middle;\n",
       "    }\n",
       "\n",
       "    .dataframe tbody tr th {\n",
       "        vertical-align: top;\n",
       "    }\n",
       "\n",
       "    .dataframe thead th {\n",
       "        text-align: right;\n",
       "    }\n",
       "</style>\n",
       "<table border=\"1\" class=\"dataframe\">\n",
       "  <thead>\n",
       "    <tr style=\"text-align: right;\">\n",
       "      <th></th>\n",
       "      <th>STEELROD</th>\n",
       "    </tr>\n",
       "  </thead>\n",
       "  <tbody>\n",
       "    <tr>\n",
       "      <th>26</th>\n",
       "      <td>16.7293</td>\n",
       "    </tr>\n",
       "    <tr>\n",
       "      <th>27</th>\n",
       "      <td>17.1475</td>\n",
       "    </tr>\n",
       "    <tr>\n",
       "      <th>28</th>\n",
       "      <td>18.3245</td>\n",
       "    </tr>\n",
       "    <tr>\n",
       "      <th>29</th>\n",
       "      <td>17.9860</td>\n",
       "    </tr>\n",
       "    <tr>\n",
       "      <th>30</th>\n",
       "      <td>17.2549</td>\n",
       "    </tr>\n",
       "    <tr>\n",
       "      <th>31</th>\n",
       "      <td>17.2598</td>\n",
       "    </tr>\n",
       "    <tr>\n",
       "      <th>32</th>\n",
       "      <td>15.5766</td>\n",
       "    </tr>\n",
       "    <tr>\n",
       "      <th>33</th>\n",
       "      <td>16.0839</td>\n",
       "    </tr>\n",
       "    <tr>\n",
       "      <th>34</th>\n",
       "      <td>17.6091</td>\n",
       "    </tr>\n",
       "    <tr>\n",
       "      <th>35</th>\n",
       "      <td>16.6510</td>\n",
       "    </tr>\n",
       "    <tr>\n",
       "      <th>36</th>\n",
       "      <td>16.2168</td>\n",
       "    </tr>\n",
       "    <tr>\n",
       "      <th>37</th>\n",
       "      <td>18.3320</td>\n",
       "    </tr>\n",
       "    <tr>\n",
       "      <th>38</th>\n",
       "      <td>18.0363</td>\n",
       "    </tr>\n",
       "    <tr>\n",
       "      <th>39</th>\n",
       "      <td>16.7285</td>\n",
       "    </tr>\n",
       "    <tr>\n",
       "      <th>40</th>\n",
       "      <td>16.9289</td>\n",
       "    </tr>\n",
       "    <tr>\n",
       "      <th>41</th>\n",
       "      <td>17.4760</td>\n",
       "    </tr>\n",
       "    <tr>\n",
       "      <th>42</th>\n",
       "      <td>16.1857</td>\n",
       "    </tr>\n",
       "    <tr>\n",
       "      <th>43</th>\n",
       "      <td>15.4375</td>\n",
       "    </tr>\n",
       "    <tr>\n",
       "      <th>44</th>\n",
       "      <td>17.5932</td>\n",
       "    </tr>\n",
       "    <tr>\n",
       "      <th>45</th>\n",
       "      <td>17.6833</td>\n",
       "    </tr>\n",
       "    <tr>\n",
       "      <th>46</th>\n",
       "      <td>18.5867</td>\n",
       "    </tr>\n",
       "    <tr>\n",
       "      <th>47</th>\n",
       "      <td>17.0922</td>\n",
       "    </tr>\n",
       "    <tr>\n",
       "      <th>48</th>\n",
       "      <td>16.7656</td>\n",
       "    </tr>\n",
       "    <tr>\n",
       "      <th>49</th>\n",
       "      <td>17.3755</td>\n",
       "    </tr>\n",
       "  </tbody>\n",
       "</table>\n",
       "</div>"
      ],
      "text/plain": [
       "    STEELROD\n",
       "26   16.7293\n",
       "27   17.1475\n",
       "28   18.3245\n",
       "29   17.9860\n",
       "30   17.2549\n",
       "31   17.2598\n",
       "32   15.5766\n",
       "33   16.0839\n",
       "34   17.6091\n",
       "35   16.6510\n",
       "36   16.2168\n",
       "37   18.3320\n",
       "38   18.0363\n",
       "39   16.7285\n",
       "40   16.9289\n",
       "41   17.4760\n",
       "42   16.1857\n",
       "43   15.4375\n",
       "44   17.5932\n",
       "45   17.6833\n",
       "46   18.5867\n",
       "47   17.0922\n",
       "48   16.7656\n",
       "49   17.3755"
      ]
     },
     "execution_count": 22,
     "metadata": {},
     "output_type": "execute_result"
    }
   ],
   "source": [
    "steelrod[26:] - 3"
   ]
  },
  {
   "cell_type": "code",
   "execution_count": 23,
   "id": "e531f948",
   "metadata": {},
   "outputs": [
    {
     "data": {
      "image/png": "[encoded data removed]",
      "text/plain": [
       "<Figure size 640x480 with 1 Axes>"
      ]
     },
     "metadata": {},
     "output_type": "display_data"
    }
   ],
   "source": [
    "steelrod[26:] = steelrod[26:] - 3\n",
    "\n",
    "ax = steelrod.plot(y='STEELROD', style='.', color='black')\n",
    "ax.set_xlabel('Index')\n",
    "ax.set_ylabel('Steel rod Length')\n",
    "ax.hlines(y=steelrod[:26].mean(), xmin=0, xmax=26)\n",
    "ax.hlines(y=steelrod[26:].mean(), xmin=26, xmax=len(steelrod))\n",
    "plt.show()"
   ]
  },
  {
   "cell_type": "code",
   "execution_count": 24,
   "id": "8efd483f",
   "metadata": {},
   "outputs": [
    {
     "data": {
      "image/png": "[encoded data removed]",
      "text/plain": [
       "<Figure size 640x480 with 1 Axes>"
      ]
     },
     "metadata": {},
     "output_type": "display_data"
    }
   ],
   "source": [
    "import math\n",
    "from scipy.stats import norm\n",
    "\n",
    "# create a list of 50 values forming a sine curve\n",
    "x = [math.sin(x * 2 * math.pi / 50) for x in range(1, 51)]\n",
    "\n",
    "# Add a random normal with mean 0 and standard deviation 0.05\n",
    "x = [xi + norm.rvs(loc=0, scale=0.05) for xi in x]\n",
    "\n",
    "ax = pd.Series(x).plot(style='.', color='black')\n",
    "ax.set_ylabel('Values')\n",
    "ax.axhline(y=0, linestyle='--', color='darkgray')\n",
    "plt.show()"
   ]
  },
  {
   "cell_type": "markdown",
   "id": "6039ff58",
   "metadata": {},
   "source": [
    "## Ex 1.4"
   ]
  },
  {
   "cell_type": "code",
   "execution_count": 25,
   "id": "a864c39e",
   "metadata": {},
   "outputs": [
    {
     "data": {
      "image/png": "[encoded data removed]",
      "text/plain": [
       "<Figure size 640x480 with 1 Axes>"
      ]
     },
     "metadata": {},
     "output_type": "display_data"
    }
   ],
   "source": [
    "np.random.seed(seed=1)\n",
    "\n",
    "x = np.concatenate([5 + norm.rvs(loc=0, scale=0.5, size=10),\n",
    "                    2 + norm.rvs(loc=0, scale=0.2, size=10),\n",
    "                    5 + norm.rvs(loc=0, scale=0.1, size=10)])\n",
    "ax = pd.Series(x).plot(style='.', color='black')\n",
    "ax.set_ylabel('Values')\n",
    "ax.set_xlabel('Index')\n",
    "ax.set_ylabel('Weight')\n",
    "ax.hlines(y=5, xmin=0, xmax=9, color='darkgray')\n",
    "ax.hlines(y=2, xmin=10, xmax=19, color='darkgray')\n",
    "ax.hlines(y=5, xmin=20, xmax=29, color='darkgray')\n",
    "ax.text(4, 6.5, 'A')\n",
    "ax.text(14, 3.5, 'B')\n",
    "ax.text(24, 6.5, 'C')\n",
    "ax.set_ylim(0, 8)\n",
    "plt.show()"
   ]
  },
  {
   "cell_type": "markdown",
   "id": "44762f05",
   "metadata": {},
   "source": [
    "## Ex 1.5"
   ]
  },
  {
   "cell_type": "code",
   "execution_count": 26,
   "id": "4e53a060",
   "metadata": {},
   "outputs": [
    {
     "data": {
      "text/html": [
       "<div>\n",
       "<style scoped>\n",
       "    .dataframe tbody tr th:only-of-type {\n",
       "        vertical-align: middle;\n",
       "    }\n",
       "\n",
       "    .dataframe tbody tr th {\n",
       "        vertical-align: top;\n",
       "    }\n",
       "\n",
       "    .dataframe thead th {\n",
       "        text-align: right;\n",
       "    }\n",
       "</style>\n",
       "<table border=\"1\" class=\"dataframe\">\n",
       "  <thead>\n",
       "    <tr style=\"text-align: right;\">\n",
       "      <th></th>\n",
       "      <th>plateID</th>\n",
       "      <th>count</th>\n",
       "    </tr>\n",
       "  </thead>\n",
       "  <tbody>\n",
       "    <tr>\n",
       "      <th>0</th>\n",
       "      <td>1</td>\n",
       "      <td>0</td>\n",
       "    </tr>\n",
       "    <tr>\n",
       "      <th>1</th>\n",
       "      <td>2</td>\n",
       "      <td>2</td>\n",
       "    </tr>\n",
       "    <tr>\n",
       "      <th>2</th>\n",
       "      <td>3</td>\n",
       "      <td>0</td>\n",
       "    </tr>\n",
       "    <tr>\n",
       "      <th>3</th>\n",
       "      <td>4</td>\n",
       "      <td>0</td>\n",
       "    </tr>\n",
       "    <tr>\n",
       "      <th>4</th>\n",
       "      <td>5</td>\n",
       "      <td>1</td>\n",
       "    </tr>\n",
       "    <tr>\n",
       "      <th>5</th>\n",
       "      <td>6</td>\n",
       "      <td>3</td>\n",
       "    </tr>\n",
       "    <tr>\n",
       "      <th>6</th>\n",
       "      <td>7</td>\n",
       "      <td>0</td>\n",
       "    </tr>\n",
       "    <tr>\n",
       "      <th>7</th>\n",
       "      <td>8</td>\n",
       "      <td>3</td>\n",
       "    </tr>\n",
       "    <tr>\n",
       "      <th>8</th>\n",
       "      <td>9</td>\n",
       "      <td>1</td>\n",
       "    </tr>\n",
       "    <tr>\n",
       "      <th>9</th>\n",
       "      <td>10</td>\n",
       "      <td>1</td>\n",
       "    </tr>\n",
       "    <tr>\n",
       "      <th>10</th>\n",
       "      <td>11</td>\n",
       "      <td>0</td>\n",
       "    </tr>\n",
       "    <tr>\n",
       "      <th>11</th>\n",
       "      <td>12</td>\n",
       "      <td>0</td>\n",
       "    </tr>\n",
       "    <tr>\n",
       "      <th>12</th>\n",
       "      <td>13</td>\n",
       "      <td>1</td>\n",
       "    </tr>\n",
       "    <tr>\n",
       "      <th>13</th>\n",
       "      <td>14</td>\n",
       "      <td>2</td>\n",
       "    </tr>\n",
       "    <tr>\n",
       "      <th>14</th>\n",
       "      <td>15</td>\n",
       "      <td>0</td>\n",
       "    </tr>\n",
       "    <tr>\n",
       "      <th>15</th>\n",
       "      <td>16</td>\n",
       "      <td>0</td>\n",
       "    </tr>\n",
       "    <tr>\n",
       "      <th>16</th>\n",
       "      <td>17</td>\n",
       "      <td>0</td>\n",
       "    </tr>\n",
       "    <tr>\n",
       "      <th>17</th>\n",
       "      <td>18</td>\n",
       "      <td>1</td>\n",
       "    </tr>\n",
       "    <tr>\n",
       "      <th>18</th>\n",
       "      <td>19</td>\n",
       "      <td>1</td>\n",
       "    </tr>\n",
       "    <tr>\n",
       "      <th>19</th>\n",
       "      <td>20</td>\n",
       "      <td>3</td>\n",
       "    </tr>\n",
       "    <tr>\n",
       "      <th>20</th>\n",
       "      <td>21</td>\n",
       "      <td>0</td>\n",
       "    </tr>\n",
       "    <tr>\n",
       "      <th>21</th>\n",
       "      <td>22</td>\n",
       "      <td>1</td>\n",
       "    </tr>\n",
       "    <tr>\n",
       "      <th>22</th>\n",
       "      <td>23</td>\n",
       "      <td>0</td>\n",
       "    </tr>\n",
       "    <tr>\n",
       "      <th>23</th>\n",
       "      <td>24</td>\n",
       "      <td>0</td>\n",
       "    </tr>\n",
       "    <tr>\n",
       "      <th>24</th>\n",
       "      <td>25</td>\n",
       "      <td>0</td>\n",
       "    </tr>\n",
       "    <tr>\n",
       "      <th>25</th>\n",
       "      <td>26</td>\n",
       "      <td>5</td>\n",
       "    </tr>\n",
       "    <tr>\n",
       "      <th>26</th>\n",
       "      <td>27</td>\n",
       "      <td>1</td>\n",
       "    </tr>\n",
       "    <tr>\n",
       "      <th>27</th>\n",
       "      <td>28</td>\n",
       "      <td>0</td>\n",
       "    </tr>\n",
       "    <tr>\n",
       "      <th>28</th>\n",
       "      <td>29</td>\n",
       "      <td>2</td>\n",
       "    </tr>\n",
       "    <tr>\n",
       "      <th>29</th>\n",
       "      <td>30</td>\n",
       "      <td>0</td>\n",
       "    </tr>\n",
       "  </tbody>\n",
       "</table>\n",
       "</div>"
      ],
      "text/plain": [
       "    plateID  count\n",
       "0         1      0\n",
       "1         2      2\n",
       "2         3      0\n",
       "3         4      0\n",
       "4         5      1\n",
       "5         6      3\n",
       "6         7      0\n",
       "7         8      3\n",
       "8         9      1\n",
       "9        10      1\n",
       "10       11      0\n",
       "11       12      0\n",
       "12       13      1\n",
       "13       14      2\n",
       "14       15      0\n",
       "15       16      0\n",
       "16       17      0\n",
       "17       18      1\n",
       "18       19      1\n",
       "19       20      3\n",
       "20       21      0\n",
       "21       22      1\n",
       "22       23      0\n",
       "23       24      0\n",
       "24       25      0\n",
       "25       26      5\n",
       "26       27      1\n",
       "27       28      0\n",
       "28       29      2\n",
       "29       30      0"
      ]
     },
     "execution_count": 26,
     "metadata": {},
     "output_type": "execute_result"
    }
   ],
   "source": [
    "df3 = pd.read_csv(\"Chap001/BLEMISHES.csv\")\n",
    "df3"
   ]
  },
  {
   "cell_type": "code",
   "execution_count": 27,
   "id": "e32c001d",
   "metadata": {},
   "outputs": [
    {
     "data": {
      "image/png": "[encoded data removed]",
      "text/plain": [
       "<Figure size 640x480 with 1 Axes>"
      ]
     },
     "metadata": {},
     "output_type": "display_data"
    }
   ],
   "source": [
    "# use value_counts with normalize to get relative frequencies\n",
    "X = pd.DataFrame(df3['count'].value_counts(normalize=True))\n",
    "X.loc[4, 'proportion'] = 0  # there are no samples with 4 blemishes add a row\n",
    "X = X.sort_index()  # sort by number of blemishes\n",
    "\n",
    "ax = X['proportion'].plot.bar(color='grey', legend=False)\n",
    "ax.set_xlabel('Number of blemishes')\n",
    "ax.set_ylabel('Proportional Frequency')\n",
    "plt.show()"
   ]
  },
  {
   "cell_type": "code",
   "execution_count": 28,
   "id": "d796ca91",
   "metadata": {},
   "outputs": [
    {
     "data": {
      "image/png": "[encoded data removed]",
      "text/plain": [
       "<Figure size 640x480 with 1 Axes>"
      ]
     },
     "metadata": {},
     "output_type": "display_data"
    }
   ],
   "source": [
    "X['Number'] = X.index  # add number of blemishes as column\n",
    "X['Cumulative Frequency'] = X['proportion'].cumsum()\n",
    "X\n",
    "ax = X.plot.line(x='Number', y='Cumulative Frequency', color='black',\n",
    "                 drawstyle='steps-post', legend=False)\n",
    "ax.set_xlabel('Number of blemishes')\n",
    "ax.set_ylabel('Cumulative Frequency')\n",
    "ax.set_ylim(0, 1.1)\n",
    "plt.show()"
   ]
  },
  {
   "cell_type": "markdown",
   "id": "18540f6c",
   "metadata": {},
   "source": [
    "## ex 1.6"
   ]
  },
  {
   "cell_type": "code",
   "execution_count": 29,
   "id": "d2443909",
   "metadata": {
    "scrolled": false
   },
   "outputs": [
    {
     "data": {
      "text/html": [
       "<div>\n",
       "<style scoped>\n",
       "    .dataframe tbody tr th:only-of-type {\n",
       "        vertical-align: middle;\n",
       "    }\n",
       "\n",
       "    .dataframe tbody tr th {\n",
       "        vertical-align: top;\n",
       "    }\n",
       "\n",
       "    .dataframe thead th {\n",
       "        text-align: right;\n",
       "    }\n",
       "</style>\n",
       "<table border=\"1\" class=\"dataframe\">\n",
       "  <thead>\n",
       "    <tr style=\"text-align: right;\">\n",
       "      <th></th>\n",
       "      <th>YARNSTRG</th>\n",
       "    </tr>\n",
       "  </thead>\n",
       "  <tbody>\n",
       "    <tr>\n",
       "      <th>0</th>\n",
       "      <td>2.4016</td>\n",
       "    </tr>\n",
       "    <tr>\n",
       "      <th>1</th>\n",
       "      <td>2.5813</td>\n",
       "    </tr>\n",
       "    <tr>\n",
       "      <th>2</th>\n",
       "      <td>2.1232</td>\n",
       "    </tr>\n",
       "    <tr>\n",
       "      <th>3</th>\n",
       "      <td>3.0164</td>\n",
       "    </tr>\n",
       "    <tr>\n",
       "      <th>4</th>\n",
       "      <td>4.4382</td>\n",
       "    </tr>\n",
       "    <tr>\n",
       "      <th>...</th>\n",
       "      <td>...</td>\n",
       "    </tr>\n",
       "    <tr>\n",
       "      <th>95</th>\n",
       "      <td>3.6561</td>\n",
       "    </tr>\n",
       "    <tr>\n",
       "      <th>96</th>\n",
       "      <td>3.5886</td>\n",
       "    </tr>\n",
       "    <tr>\n",
       "      <th>97</th>\n",
       "      <td>4.1251</td>\n",
       "    </tr>\n",
       "    <tr>\n",
       "      <th>98</th>\n",
       "      <td>3.2177</td>\n",
       "    </tr>\n",
       "    <tr>\n",
       "      <th>99</th>\n",
       "      <td>2.4190</td>\n",
       "    </tr>\n",
       "  </tbody>\n",
       "</table>\n",
       "<p>100 rows × 1 columns</p>\n",
       "</div>"
      ],
      "text/plain": [
       "    YARNSTRG\n",
       "0     2.4016\n",
       "1     2.5813\n",
       "2     2.1232\n",
       "3     3.0164\n",
       "4     4.4382\n",
       "..       ...\n",
       "95    3.6561\n",
       "96    3.5886\n",
       "97    4.1251\n",
       "98    3.2177\n",
       "99    2.4190\n",
       "\n",
       "[100 rows x 1 columns]"
      ]
     },
     "execution_count": 29,
     "metadata": {},
     "output_type": "execute_result"
    }
   ],
   "source": [
    "df4 = pd.read_csv(\"Chap001/YARNSTRG.csv\")\n",
    "df4"
   ]
  },
  {
   "cell_type": "code",
   "execution_count": 30,
   "id": "14345537",
   "metadata": {},
   "outputs": [
    {
     "data": {
      "image/png": "[encoded data removed]",
      "text/plain": [
       "<Figure size 640x480 with 1 Axes>"
      ]
     },
     "metadata": {},
     "output_type": "display_data"
    }
   ],
   "source": [
    "ax = df4.plot.hist(bins=11, color='white', edgecolor='black', legend=False)\n",
    "ax.set_xlabel('Log yarn strength')\n",
    "plt.show()"
   ]
  },
  {
   "cell_type": "code",
   "execution_count": 31,
   "id": "4cabf322",
   "metadata": {},
   "outputs": [
    {
     "data": {
      "image/png": "[encoded data removed]",
      "text/plain": [
       "<Figure size 640x480 with 1 Axes>"
      ]
     },
     "metadata": {},
     "output_type": "display_data"
    }
   ],
   "source": [
    "ecdf = pd.DataFrame({'Log yarn strength': df4['YARNSTRG'].sort_values(),\n",
    "                     'Fn(x)': range(1, len(df4['YARNSTRG']) + 1)})\n",
    "ecdf['Fn(x)'] = ecdf['Fn(x)'] / len(df4['YARNSTRG'])\n",
    "ax = ecdf.plot(x='Log yarn strength', y='Fn(x)', color='black', drawstyle='steps-post', legend=False)\n",
    "ax.axhline(y=0, color='grey', linestyle='--')\n",
    "ax.axhline(y=1, color='grey', linestyle='--')\n",
    "ax.set_ylabel('Fn(x)')\n",
    "plt.show()"
   ]
  },
  {
   "cell_type": "code",
   "execution_count": 32,
   "id": "1db834fa",
   "metadata": {},
   "outputs": [
    {
     "data": {
      "text/html": [
       "<div>\n",
       "<style scoped>\n",
       "    .dataframe tbody tr th:only-of-type {\n",
       "        vertical-align: middle;\n",
       "    }\n",
       "\n",
       "    .dataframe tbody tr th {\n",
       "        vertical-align: top;\n",
       "    }\n",
       "\n",
       "    .dataframe thead th {\n",
       "        text-align: right;\n",
       "    }\n",
       "</style>\n",
       "<table border=\"1\" class=\"dataframe\">\n",
       "  <thead>\n",
       "    <tr style=\"text-align: right;\">\n",
       "      <th></th>\n",
       "      <th>Log yarn strength</th>\n",
       "      <th>Fn(x)</th>\n",
       "    </tr>\n",
       "  </thead>\n",
       "  <tbody>\n",
       "    <tr>\n",
       "      <th>0</th>\n",
       "      <td>1.1514</td>\n",
       "      <td>0.01</td>\n",
       "    </tr>\n",
       "    <tr>\n",
       "      <th>1</th>\n",
       "      <td>1.1535</td>\n",
       "      <td>0.02</td>\n",
       "    </tr>\n",
       "    <tr>\n",
       "      <th>2</th>\n",
       "      <td>1.3436</td>\n",
       "      <td>0.03</td>\n",
       "    </tr>\n",
       "    <tr>\n",
       "      <th>3</th>\n",
       "      <td>1.4328</td>\n",
       "      <td>0.04</td>\n",
       "    </tr>\n",
       "    <tr>\n",
       "      <th>4</th>\n",
       "      <td>1.4570</td>\n",
       "      <td>0.05</td>\n",
       "    </tr>\n",
       "    <tr>\n",
       "      <th>...</th>\n",
       "      <td>...</td>\n",
       "      <td>...</td>\n",
       "    </tr>\n",
       "    <tr>\n",
       "      <th>95</th>\n",
       "      <td>4.6315</td>\n",
       "      <td>0.96</td>\n",
       "    </tr>\n",
       "    <tr>\n",
       "      <th>96</th>\n",
       "      <td>4.6426</td>\n",
       "      <td>0.97</td>\n",
       "    </tr>\n",
       "    <tr>\n",
       "      <th>97</th>\n",
       "      <td>4.8444</td>\n",
       "      <td>0.98</td>\n",
       "    </tr>\n",
       "    <tr>\n",
       "      <th>98</th>\n",
       "      <td>5.0904</td>\n",
       "      <td>0.99</td>\n",
       "    </tr>\n",
       "    <tr>\n",
       "      <th>99</th>\n",
       "      <td>5.7978</td>\n",
       "      <td>1.00</td>\n",
       "    </tr>\n",
       "  </tbody>\n",
       "</table>\n",
       "<p>100 rows × 2 columns</p>\n",
       "</div>"
      ],
      "text/plain": [
       "    Log yarn strength  Fn(x)\n",
       "0              1.1514   0.01\n",
       "1              1.1535   0.02\n",
       "2              1.3436   0.03\n",
       "3              1.4328   0.04\n",
       "4              1.4570   0.05\n",
       "..                ...    ...\n",
       "95             4.6315   0.96\n",
       "96             4.6426   0.97\n",
       "97             4.8444   0.98\n",
       "98             5.0904   0.99\n",
       "99             5.7978   1.00\n",
       "\n",
       "[100 rows x 2 columns]"
      ]
     },
     "execution_count": 32,
     "metadata": {},
     "output_type": "execute_result"
    }
   ],
   "source": [
    "ecdf = pd.DataFrame({'Log yarn strength': df4['YARNSTRG'].sort_values(ignore_index=True),\n",
    "                     'Fn(x)': range(1, len(df4['YARNSTRG']) + 1)})\n",
    "ecdf['Fn(x)'] = ecdf['Fn(x)'] / len(df4['YARNSTRG'])\n",
    "ecdf"
   ]
  },
  {
   "cell_type": "code",
   "execution_count": 33,
   "id": "92145c0f",
   "metadata": {},
   "outputs": [
    {
     "name": "stdout",
     "output_type": "stream",
     "text": [
      "       CYCLT\n",
      "0.00  0.1750\n",
      "0.25  0.3050\n",
      "0.50  0.5455\n",
      "0.75  1.0690\n",
      "1.00  1.1410\n",
      "CYCLT    0.65246\n",
      "dtype: float64\n"
     ]
    }
   ],
   "source": [
    "print(df1.quantile(q=[0, 0.25, 0.5, 0.75, 1.0]))\n",
    "print(df1.mean())"
   ]
  },
  {
   "cell_type": "code",
   "execution_count": 34,
   "id": "655c4da7",
   "metadata": {},
   "outputs": [
    {
     "name": "stdout",
     "output_type": "stream",
     "text": [
      "           CYCLT\n",
      "count  50.000000\n",
      "mean    0.652460\n",
      "std     0.372971\n",
      "min     0.175000\n",
      "25%     0.305000\n",
      "50%     0.545500\n",
      "75%     1.069000\n",
      "max     1.141000\n"
     ]
    }
   ],
   "source": [
    "print(df1.describe())"
   ]
  },
  {
   "cell_type": "code",
   "execution_count": 35,
   "id": "3af0aaa4",
   "metadata": {},
   "outputs": [
    {
     "data": {
      "image/png": "[encoded data removed]",
      "text/plain": [
       "<Figure size 640x480 with 1 Axes>"
      ]
     },
     "metadata": {},
     "output_type": "display_data"
    }
   ],
   "source": [
    "ecdf = pd.DataFrame({'Log yarn strength': df4['YARNSTRG'].sort_values(ignore_index=True),\n",
    "                     'Fn(x)': range(1, len(df4['YARNSTRG']) + 1)})\n",
    "ecdf['Fn(x)'] = ecdf['Fn(x)'] / len(df4['YARNSTRG'])\n",
    "ax = ecdf.plot(x='Log yarn strength', y='Fn(x)', color='black', drawstyle='steps-post', legend=False)\n",
    "ax.axhline(y=0, color='grey', linestyle='--')\n",
    "ax.axhline(y=1, color='grey', linestyle='--')\n",
    "for i, y in enumerate([25, 50, 75], 1):\n",
    "    ax.axhline(y=y/100, color='grey', linestyle='--')\n",
    "    quartile = ecdf['Log yarn strength'][y]\n",
    "    ax.plot([quartile, quartile], [y/100, 0], color='darkgrey')\n",
    "    ax.text(quartile + 0.05, 0.05, f'Q{i}')\n",
    "ax.set_ylabel('Fn(x)')\n",
    "plt.show()"
   ]
  },
  {
   "cell_type": "code",
   "execution_count": 36,
   "id": "ed13ff4c",
   "metadata": {},
   "outputs": [
    {
     "name": "stdout",
     "output_type": "stream",
     "text": [
      "2 25\n",
      "3 50\n",
      "4 75\n"
     ]
    }
   ],
   "source": [
    "for i, y in enumerate([25, 50, 75], 2):\n",
    "    print(i, y)"
   ]
  },
  {
   "cell_type": "code",
   "execution_count": 37,
   "id": "43cec180",
   "metadata": {},
   "outputs": [
    {
     "data": {
      "text/plain": [
       "1.3436"
      ]
     },
     "execution_count": 37,
     "metadata": {},
     "output_type": "execute_result"
    }
   ],
   "source": [
    "ecdf['Log yarn strength'][2]"
   ]
  },
  {
   "cell_type": "code",
   "execution_count": 38,
   "id": "0b589c4e",
   "metadata": {},
   "outputs": [
    {
     "data": {
      "text/plain": [
       "18.61267871789453"
      ]
     },
     "execution_count": 38,
     "metadata": {},
     "output_type": "execute_result"
    }
   ],
   "source": [
    "import numpy as np\n",
    "\n",
    "df4['exp'] = df4['YARNSTRG'].apply(np.exp)\n",
    "df4['Cumulative Product'] = df4['exp'].cumprod()\n",
    "df4.at[df4.index[-1], df4.columns[-1]] ** (1/100)\n",
    "\n"
   ]
  },
  {
   "cell_type": "code",
   "execution_count": 39,
   "id": "9c67ab7c",
   "metadata": {},
   "outputs": [
    {
     "data": {
      "image/png": "[encoded data removed]",
      "text/plain": [
       "<Figure size 640x480 with 1 Axes>"
      ]
     },
     "metadata": {},
     "output_type": "display_data"
    }
   ],
   "source": [
    "df4['YARNSTRG'].plot.density()\n",
    "plt.show()"
   ]
  },
  {
   "cell_type": "code",
   "execution_count": 40,
   "id": "41b13ae7",
   "metadata": {},
   "outputs": [
    {
     "data": {
      "image/png": "[encoded data removed]",
      "text/plain": [
       "<Figure size 640x480 with 1 Axes>"
      ]
     },
     "metadata": {},
     "output_type": "display_data"
    }
   ],
   "source": [
    "X = df4['YARNSTRG']\n",
    "ax = X.plot.hist(bins=8, color='white', edgecolor='black', legend=False, density=True)\n",
    "X.plot.density(bw_method=0.2, ax=ax, color='black')\n",
    "ax.set_xlabel('Log yarn strength')\n",
    "plt.show()"
   ]
  },
  {
   "cell_type": "code",
   "execution_count": 41,
   "id": "fd1ea06f",
   "metadata": {},
   "outputs": [
    {
     "name": "stdout",
     "output_type": "stream",
     "text": [
      "Skewness 0.4164\n",
      "Kurtosis -0.0080\n",
      "Skewness 0.4102\n",
      "Kurtosis -0.0670\n"
     ]
    }
   ],
   "source": [
    "print(f'Skewness {X.skew():.4f}')     # Computes the skewness\n",
    "print(f'Kurtosis {X.kurtosis():.4f}') # Computes the kurtosis\n",
    "\n",
    "from scipy.stats import skew, kurtosis\n",
    "print(f'Skewness {skew(X):.4f}')     # Computes the skewness\n",
    "print(f'Kurtosis {kurtosis(X):.4f}') # Computes the kurtosis"
   ]
  },
  {
   "cell_type": "code",
   "execution_count": 42,
   "id": "9c6bc913",
   "metadata": {},
   "outputs": [
    {
     "data": {
      "text/plain": [
       "array([-3.        , -2.96984925, -2.93969849, -2.90954774, -2.87939698,\n",
       "       -2.84924623, -2.81909548, -2.78894472, -2.75879397, -2.72864322,\n",
       "       -2.69849246, -2.66834171, -2.63819095, -2.6080402 , -2.57788945,\n",
       "       -2.54773869, -2.51758794, -2.48743719, -2.45728643, -2.42713568,\n",
       "       -2.39698492, -2.36683417, -2.33668342, -2.30653266, -2.27638191,\n",
       "       -2.24623116, -2.2160804 , -2.18592965, -2.15577889, -2.12562814,\n",
       "       -2.09547739, -2.06532663, -2.03517588, -2.00502513, -1.97487437,\n",
       "       -1.94472362, -1.91457286, -1.88442211, -1.85427136, -1.8241206 ,\n",
       "       -1.79396985, -1.7638191 , -1.73366834, -1.70351759, -1.67336683,\n",
       "       -1.64321608, -1.61306533, -1.58291457, -1.55276382, -1.52261307,\n",
       "       -1.49246231, -1.46231156, -1.4321608 , -1.40201005, -1.3718593 ,\n",
       "       -1.34170854, -1.31155779, -1.28140704, -1.25125628, -1.22110553,\n",
       "       -1.19095477, -1.16080402, -1.13065327, -1.10050251, -1.07035176,\n",
       "       -1.04020101, -1.01005025, -0.9798995 , -0.94974874, -0.91959799,\n",
       "       -0.88944724, -0.85929648, -0.82914573, -0.79899497, -0.76884422,\n",
       "       -0.73869347, -0.70854271, -0.67839196, -0.64824121, -0.61809045,\n",
       "       -0.5879397 , -0.55778894, -0.52763819, -0.49748744, -0.46733668,\n",
       "       -0.43718593, -0.40703518, -0.37688442, -0.34673367, -0.31658291,\n",
       "       -0.28643216, -0.25628141, -0.22613065, -0.1959799 , -0.16582915,\n",
       "       -0.13567839, -0.10552764, -0.07537688, -0.04522613, -0.01507538,\n",
       "        0.01507538,  0.04522613,  0.07537688,  0.10552764,  0.13567839,\n",
       "        0.16582915,  0.1959799 ,  0.22613065,  0.25628141,  0.28643216,\n",
       "        0.31658291,  0.34673367,  0.37688442,  0.40703518,  0.43718593,\n",
       "        0.46733668,  0.49748744,  0.52763819,  0.55778894,  0.5879397 ,\n",
       "        0.61809045,  0.64824121,  0.67839196,  0.70854271,  0.73869347,\n",
       "        0.76884422,  0.79899497,  0.82914573,  0.85929648,  0.88944724,\n",
       "        0.91959799,  0.94974874,  0.9798995 ,  1.01005025,  1.04020101,\n",
       "        1.07035176,  1.10050251,  1.13065327,  1.16080402,  1.19095477,\n",
       "        1.22110553,  1.25125628,  1.28140704,  1.31155779,  1.34170854,\n",
       "        1.3718593 ,  1.40201005,  1.4321608 ,  1.46231156,  1.49246231,\n",
       "        1.52261307,  1.55276382,  1.58291457,  1.61306533,  1.64321608,\n",
       "        1.67336683,  1.70351759,  1.73366834,  1.7638191 ,  1.79396985,\n",
       "        1.8241206 ,  1.85427136,  1.88442211,  1.91457286,  1.94472362,\n",
       "        1.97487437,  2.00502513,  2.03517588,  2.06532663,  2.09547739,\n",
       "        2.12562814,  2.15577889,  2.18592965,  2.2160804 ,  2.24623116,\n",
       "        2.27638191,  2.30653266,  2.33668342,  2.36683417,  2.39698492,\n",
       "        2.42713568,  2.45728643,  2.48743719,  2.51758794,  2.54773869,\n",
       "        2.57788945,  2.6080402 ,  2.63819095,  2.66834171,  2.69849246,\n",
       "        2.72864322,  2.75879397,  2.78894472,  2.81909548,  2.84924623,\n",
       "        2.87939698,  2.90954774,  2.93969849,  2.96984925,  3.        ])"
      ]
     },
     "execution_count": 42,
     "metadata": {},
     "output_type": "execute_result"
    }
   ],
   "source": [
    "np.linspace(-3, 3, 200)"
   ]
  },
  {
   "cell_type": "code",
   "execution_count": 43,
   "id": "aa2dc7bf",
   "metadata": {},
   "outputs": [
    {
     "data": {
      "image/png": "[encoded data removed]",
      "text/plain": [
       "<Figure size 640x480 with 1 Axes>"
      ]
     },
     "metadata": {},
     "output_type": "display_data"
    }
   ],
   "source": [
    "from KDEpy.bw_selection import improved_sheather_jones\n",
    "h = improved_sheather_jones(X.values.reshape(-1, 1))\n",
    "ax = X.plot.density(color='grey')\n",
    "X.plot.density(bw_method=h, color='black', ax=ax)\n",
    "ax.set_xlabel('Log yarn strength')\n",
    "ax.set_ylabel(f'Density (h={h:.2f})')\n",
    "plt.show()"
   ]
  },
  {
   "cell_type": "markdown",
   "id": "4b58a9e3",
   "metadata": {},
   "source": [
    "## Ex 1.8"
   ]
  },
  {
   "cell_type": "code",
   "execution_count": 125,
   "id": "192a235b",
   "metadata": {},
   "outputs": [],
   "source": [
    "from scipy.stats import trim_mean\n",
    "import pandas as pd\n",
    "\n",
    "\n",
    "df5 = pd.read_csv(\"Chap001/OELECT.csv\")\n",
    "Oelect = df5['OELECT'].to_list()\n",
    "\n",
    "def mySummary(x, trim=0):\n",
    "  \"\"\" Returns summary information for list x\n",
    "\n",
    "  The optional argument trim can be used to calculate a trimmed mean\n",
    "  \"\"\"\n",
    "  x = pd.Series(x)  # convert to pandas series\n",
    "\n",
    "  quantiles = x.quantile(q=[0, 0.25, 0.5, 0.75, 1.0]).to_list()\n",
    "  trimmed_mean = trim_mean(x, trim)\n",
    "\n",
    "  # return the summary information as pandas Series\n",
    "  return pd.Series({\n",
    "    'Min': quantiles[0],\n",
    "    'Q1': quantiles[1],\n",
    "    'Median': quantiles[2],\n",
    "    'Mean': trimmed_mean,\n",
    "    'Q3': quantiles[3],\n",
    "    'Max': quantiles[4],\n",
    "    'SD': x.std(),\n",
    "    'IQR': quantiles[3] - quantiles[1],\n",
    "  })"
   ]
  },
  {
   "cell_type": "code",
   "execution_count": 126,
   "id": "3c578967",
   "metadata": {},
   "outputs": [
    {
     "name": "stdout",
     "output_type": "stream",
     "text": [
      "         untrimmed     trimmed\n",
      "Min     210.896000  210.896000\n",
      "Q1      216.846000  216.846000\n",
      "Median  219.096000  219.096000\n",
      "Mean    219.248020  219.218198\n",
      "Q3      221.686000  221.686000\n",
      "Max     228.986000  228.986000\n",
      "SD        4.003992    4.003992\n",
      "IQR       4.840000    4.840000\n"
     ]
    }
   ],
   "source": [
    "print(pd.DataFrame({\n",
    "  'untrimmed': mySummary(Oelect),\n",
    "  'trimmed': mySummary(Oelect, trim=0.05),\n",
    "}))"
   ]
  },
  {
   "cell_type": "code",
   "execution_count": null,
   "id": "e4fab7cf",
   "metadata": {},
   "outputs": [],
   "source": []
  }
 ],
 "metadata": {
  "kernelspec": {
   "display_name": "Python (DAP2)",
   "language": "python",
   "name": "dap2"
  },
  "language_info": {
   "codemirror_mode": {
    "name": "ipython",
    "version": 3
   },
   "file_extension": ".py",
   "mimetype": "text/x-python",
   "name": "python",
   "nbconvert_exporter": "python",
   "pygments_lexer": "ipython3",
   "version": "3.11.3"
  }
 },
 "nbformat": 4,
 "nbformat_minor": 5
}
