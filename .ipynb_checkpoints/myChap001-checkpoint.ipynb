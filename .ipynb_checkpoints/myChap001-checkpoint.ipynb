{
 "cells": [
  {
   "cell_type": "code",
   "execution_count": 1,
   "id": "ac02a02e",
   "metadata": {},
   "outputs": [],
   "source": [
    "import pandas as pd\n",
    "import gzip"
   ]
  },
  {
   "cell_type": "code",
   "execution_count": null,
   "id": "342ddbe0",
   "metadata": {},
   "outputs": [],
   "source": [
    "\n",
    "\n",
    "input_file = 'your_file.gz'\n",
    "output_file = 'output_file.txt'\n",
    "\n",
    "with gzip.open(input_file, 'rb') as f_in, open(output_file, 'wb') as f_out:\n",
    "    f_out.write(f_in.read())"
   ]
  }
 ],
 "metadata": {
  "kernelspec": {
   "display_name": "Python (DAP)",
   "language": "python",
   "name": "dap"
  },
  "language_info": {
   "codemirror_mode": {
    "name": "ipython",
    "version": 3
   },
   "file_extension": ".py",
   "mimetype": "text/x-python",
   "name": "python",
   "nbconvert_exporter": "python",
   "pygments_lexer": "ipython3",
   "version": "3.11.3"
  }
 },
 "nbformat": 4,
 "nbformat_minor": 5
}
